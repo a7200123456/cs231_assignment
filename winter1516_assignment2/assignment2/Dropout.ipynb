{
 "cells": [
  {
   "cell_type": "markdown",
   "metadata": {},
   "source": [
    "# Dropout\n",
    "Dropout [1] is a technique for regularizing neural networks by randomly setting some features to zero during the forward pass. In this exercise you will implement a dropout layer and modify your fully-connected network to optionally use dropout.\n",
    "\n",
    "[1] Geoffrey E. Hinton et al, \"Improving neural networks by preventing co-adaptation of feature detectors\", arXiv 2012"
   ]
  },
  {
   "cell_type": "code",
   "execution_count": 33,
   "metadata": {
    "collapsed": false
   },
   "outputs": [
    {
     "name": "stdout",
     "output_type": "stream",
     "text": [
      "The autoreload extension is already loaded. To reload it, use:\n",
      "  %reload_ext autoreload\n"
     ]
    }
   ],
   "source": [
    "# As usual, a bit of setup\n",
    "\n",
    "import time\n",
    "import numpy as np\n",
    "import matplotlib.pyplot as plt\n",
    "from cs231n.classifiers.fc_net import *\n",
    "from cs231n.data_utils import get_CIFAR10_data\n",
    "from cs231n.gradient_check import eval_numerical_gradient, eval_numerical_gradient_array\n",
    "from cs231n.solver import Solver\n",
    "\n",
    "%matplotlib inline\n",
    "plt.rcParams['figure.figsize'] = (10.0, 8.0) # set default size of plots\n",
    "plt.rcParams['image.interpolation'] = 'nearest'\n",
    "plt.rcParams['image.cmap'] = 'gray'\n",
    "\n",
    "# for auto-reloading external modules\n",
    "# see http://stackoverflow.com/questions/1907993/autoreload-of-modules-in-ipython\n",
    "%load_ext autoreload\n",
    "%autoreload 2\n",
    "\n",
    "def rel_error(x, y):\n",
    "  \"\"\" returns relative error \"\"\"\n",
    "  return np.max(np.abs(x - y) / (np.maximum(1e-8, np.abs(x) + np.abs(y))))"
   ]
  },
  {
   "cell_type": "code",
   "execution_count": 34,
   "metadata": {
    "collapsed": false
   },
   "outputs": [
    {
     "name": "stdout",
     "output_type": "stream",
     "text": [
      "X_val:  (1000, 3, 32, 32)\n",
      "X_train:  (49000, 3, 32, 32)\n",
      "X_test:  (1000, 3, 32, 32)\n",
      "y_val:  (1000,)\n",
      "y_train:  (49000,)\n",
      "y_test:  (1000,)\n"
     ]
    }
   ],
   "source": [
    "# Load the (preprocessed) CIFAR10 data.\n",
    "\n",
    "data = get_CIFAR10_data()\n",
    "for k, v in data.iteritems():\n",
    "  print '%s: ' % k, v.shape"
   ]
  },
  {
   "cell_type": "code",
   "execution_count": 29,
   "metadata": {
    "collapsed": false,
    "scrolled": true
   },
   "outputs": [
    {
     "ename": "SyntaxError",
     "evalue": "invalid syntax (<ipython-input-29-0290c28c3990>, line 3)",
     "output_type": "error",
     "traceback": [
      "\u001b[0;36m  File \u001b[0;32m\"<ipython-input-29-0290c28c3990>\"\u001b[0;36m, line \u001b[0;32m3\u001b[0m\n\u001b[0;31m    out{1} = 1\u001b[0m\n\u001b[0m       ^\u001b[0m\n\u001b[0;31mSyntaxError\u001b[0m\u001b[0;31m:\u001b[0m invalid syntax\n"
     ]
    }
   ],
   "source": [
    "x = np.random.randn(500, 10,10) + 10\n",
    "out = None\n",
    "out{1} = 1   \n",
    "print out\n",
    "print np.reshape(x,(x.shape[0],np.prod(x.shape[1:]))).shape"
   ]
  },
  {
   "cell_type": "markdown",
   "metadata": {},
   "source": [
    "# Dropout forward pass\n",
    "In the file `cs231n/layers.py`, implement the forward pass for dropout. Since dropout behaves differently during training and testing, make sure to implement the operation for both modes.\n",
    "\n",
    "Once you have done so, run the cell below to test your implementation."
   ]
  },
  {
   "cell_type": "code",
   "execution_count": 35,
   "metadata": {
    "collapsed": false,
    "scrolled": false
   },
   "outputs": [
    {
     "name": "stdout",
     "output_type": "stream",
     "text": [
      "Running tests with p =  0.3\n",
      "Mean of input:  9.99852096491\n",
      "Mean of train-time output:  6.99872350371\n",
      "Mean of test-time output:  6.99896467544\n",
      "Fraction of train-time output set to zero:  0.3\n",
      "Fraction of test-time output set to zero:  0.0\n",
      "Running tests with p =  0.6\n",
      "Mean of input:  9.99852096491\n",
      "Mean of train-time output:  3.9997925753\n",
      "Mean of test-time output:  3.99940838596\n",
      "Fraction of train-time output set to zero:  0.6\n",
      "Fraction of test-time output set to zero:  0.0\n",
      "Running tests with p =  0.75\n",
      "Mean of input:  9.99852096491\n",
      "Mean of train-time output:  2.50075334056\n",
      "Mean of test-time output:  2.49963024123\n",
      "Fraction of train-time output set to zero:  0.75\n",
      "Fraction of test-time output set to zero:  0.0\n"
     ]
    }
   ],
   "source": [
    "x = np.random.randn(500, 500) + 10\n",
    "\n",
    "for p in [0.3, 0.6, 0.75]:\n",
    "    out_test, _ = dropout_forward(x, {'mode': 'test', 'p': p})\n",
    "    out, _ = dropout_forward(x, {'mode': 'train', 'p': p})\n",
    "    print 'Running tests with p = ', p\n",
    "    print 'Mean of input: ', x.mean()\n",
    "    print 'Mean of train-time output: ', out.mean()\n",
    "    print 'Mean of test-time output: ', out_test.mean()\n",
    "    print 'Fraction of train-time output set to zero: ', (out == 0).mean()\n",
    "    print 'Fraction of test-time output set to zero: ', (out_test == 0).mean()"
   ]
  },
  {
   "cell_type": "markdown",
   "metadata": {},
   "source": [
    "# Dropout backward pass\n",
    "In the file `cs231n/layers.py`, implement the backward pass for dropout. After doing so, run the following cell to numerically gradient-check your implementation."
   ]
  },
  {
   "cell_type": "code",
   "execution_count": 36,
   "metadata": {
    "collapsed": false
   },
   "outputs": [
    {
     "name": "stdout",
     "output_type": "stream",
     "text": [
      "dx relative error:  1.89289685287e-11\n"
     ]
    }
   ],
   "source": [
    "x = np.random.randn(10, 10) + 10\n",
    "dout = np.random.randn(*x.shape)\n",
    "\n",
    "dropout_param = {'mode': 'train', 'p': 0.8, 'seed': 123}\n",
    "out, cache = dropout_forward(x, dropout_param)\n",
    "dx = dropout_backward(dout, cache)\n",
    "dx_num = eval_numerical_gradient_array(lambda xx: dropout_forward(xx, dropout_param)[0], x, dout)\n",
    "\n",
    "print 'dx relative error: ', rel_error(dx, dx_num)"
   ]
  },
  {
   "cell_type": "markdown",
   "metadata": {},
   "source": [
    "# Fully-connected nets with Dropout\n",
    "In the file `cs231n/classifiers/fc_net.py`, modify your implementation to use dropout. Specificially, if the constructor the the net receives a nonzero value for the `dropout` parameter, then the net should add dropout immediately after every ReLU nonlinearity. After doing so, run the following to numerically gradient-check your implementation."
   ]
  },
  {
   "cell_type": "code",
   "execution_count": 37,
   "metadata": {
    "collapsed": false,
    "scrolled": true
   },
   "outputs": [
    {
     "name": "stdout",
     "output_type": "stream",
     "text": [
      "Running check with dropout =  0\n",
      "Initial loss:  2.30306027793\n",
      "W1 relative error: 1.56e-04\n",
      "W2 relative error: 5.05e-05\n",
      "W3 relative error: 4.58e-06\n",
      "b1 relative error: 8.70e-06\n",
      "b2 relative error: 4.96e-05\n",
      "b3 relative error: 2.00e-06\n",
      "\n",
      "Running check with dropout =  0.25\n",
      "Initial loss:  2.30372648251\n",
      "W1 relative error: 5.17e-05\n",
      "W2 relative error: 8.91e-04\n",
      "W3 relative error: 4.52e-06\n",
      "b1 relative error: 3.63e-06\n",
      "b2 relative error: 1.66e-05\n",
      "b3 relative error: 4.50e-06\n",
      "\n",
      "Running check with dropout =  0.5\n",
      "Initial loss:  2.3031010735\n",
      "W1 relative error: 2.03e-04\n",
      "W2 relative error: 7.99e-06\n",
      "W3 relative error: 4.58e-06\n",
      "b1 relative error: 1.94e-04\n",
      "b2 relative error: 7.63e-06\n",
      "b3 relative error: 4.50e-06\n",
      "\n"
     ]
    }
   ],
   "source": [
    "N, D, H1, H2, C = 2, 15, 20, 30, 10\n",
    "X = np.random.randn(N, D)\n",
    "y = np.random.randint(C, size=(N,))\n",
    "\n",
    "for dropout in [0, 0.25, 0.5]:\n",
    "  print 'Running check with dropout = ', dropout\n",
    "  model = FullyConnectedNet([H1, H2], input_dim=D, num_classes=C,\n",
    "                            weight_scale=5e-2, dtype=np.float64,\n",
    "                            dropout=dropout, seed=123)\n",
    "\n",
    "  loss, grads = model.loss(X, y)\n",
    "  print 'Initial loss: ', loss\n",
    "\n",
    "  for name in sorted(grads):\n",
    "    f = lambda _: model.loss(X, y)[0]\n",
    "    grad_num = eval_numerical_gradient(f, model.params[name], verbose=False, h=1e-5)\n",
    "    print '%s relative error: %.2e' % (name, rel_error(grad_num, grads[name]))\n",
    "  print"
   ]
  },
  {
   "cell_type": "markdown",
   "metadata": {},
   "source": [
    "# Regularization experiment\n",
    "As an experiment, we will train a pair of two-layer networks on 500 training examples: one will use no dropout, and one will use a dropout probability of 0.75. We will then visualize the training and validation accuracies of the two networks over time."
   ]
  },
  {
   "cell_type": "code",
   "execution_count": 43,
   "metadata": {
    "collapsed": false,
    "scrolled": false
   },
   "outputs": [
    {
     "name": "stdout",
     "output_type": "stream",
     "text": [
      "0\n",
      "(Iteration 1 / 200) loss: 2.315755\n",
      "(Epoch 0 / 40) train acc: 0.192000; val_acc: 0.151000\n",
      "(Epoch 1 / 40) train acc: 0.274000; val_acc: 0.214000\n",
      "(Epoch 2 / 40) train acc: 0.332000; val_acc: 0.235000\n",
      "(Epoch 3 / 40) train acc: 0.370000; val_acc: 0.261000\n",
      "(Epoch 4 / 40) train acc: 0.414000; val_acc: 0.279000\n",
      "(Epoch 5 / 40) train acc: 0.452000; val_acc: 0.276000\n",
      "(Epoch 6 / 40) train acc: 0.486000; val_acc: 0.272000\n",
      "(Epoch 7 / 40) train acc: 0.518000; val_acc: 0.268000\n",
      "(Epoch 8 / 40) train acc: 0.522000; val_acc: 0.270000\n",
      "(Epoch 9 / 40) train acc: 0.546000; val_acc: 0.278000\n",
      "(Epoch 10 / 40) train acc: 0.554000; val_acc: 0.276000\n",
      "(Epoch 11 / 40) train acc: 0.570000; val_acc: 0.273000\n",
      "(Epoch 12 / 40) train acc: 0.592000; val_acc: 0.275000\n",
      "(Epoch 13 / 40) train acc: 0.590000; val_acc: 0.276000\n",
      "(Epoch 14 / 40) train acc: 0.602000; val_acc: 0.281000\n",
      "(Epoch 15 / 40) train acc: 0.596000; val_acc: 0.270000\n",
      "(Epoch 16 / 40) train acc: 0.606000; val_acc: 0.275000\n",
      "(Epoch 17 / 40) train acc: 0.616000; val_acc: 0.264000\n",
      "(Epoch 18 / 40) train acc: 0.616000; val_acc: 0.263000\n",
      "(Epoch 19 / 40) train acc: 0.652000; val_acc: 0.277000\n",
      "(Epoch 20 / 40) train acc: 0.648000; val_acc: 0.270000\n",
      "(Iteration 101 / 200) loss: 1.134461\n",
      "(Epoch 21 / 40) train acc: 0.668000; val_acc: 0.284000\n",
      "(Epoch 22 / 40) train acc: 0.662000; val_acc: 0.287000\n",
      "(Epoch 23 / 40) train acc: 0.658000; val_acc: 0.274000\n",
      "(Epoch 24 / 40) train acc: 0.672000; val_acc: 0.280000\n",
      "(Epoch 25 / 40) train acc: 0.664000; val_acc: 0.284000\n",
      "(Epoch 26 / 40) train acc: 0.686000; val_acc: 0.283000\n",
      "(Epoch 27 / 40) train acc: 0.686000; val_acc: 0.289000\n",
      "(Epoch 28 / 40) train acc: 0.680000; val_acc: 0.287000\n",
      "(Epoch 29 / 40) train acc: 0.684000; val_acc: 0.286000\n",
      "(Epoch 30 / 40) train acc: 0.688000; val_acc: 0.284000\n",
      "(Epoch 31 / 40) train acc: 0.692000; val_acc: 0.285000\n",
      "(Epoch 32 / 40) train acc: 0.690000; val_acc: 0.290000\n",
      "(Epoch 33 / 40) train acc: 0.690000; val_acc: 0.290000\n",
      "(Epoch 34 / 40) train acc: 0.692000; val_acc: 0.291000\n",
      "(Epoch 35 / 40) train acc: 0.688000; val_acc: 0.287000\n",
      "(Epoch 36 / 40) train acc: 0.692000; val_acc: 0.288000\n",
      "(Epoch 37 / 40) train acc: 0.686000; val_acc: 0.287000\n",
      "(Epoch 38 / 40) train acc: 0.698000; val_acc: 0.291000\n",
      "(Epoch 39 / 40) train acc: 0.696000; val_acc: 0.294000\n",
      "(Epoch 40 / 40) train acc: 0.700000; val_acc: 0.299000\n",
      "0.5\n",
      "(Iteration 1 / 200) loss: 2.302902\n",
      "(Epoch 0 / 40) train acc: 0.098000; val_acc: 0.081000\n",
      "(Epoch 1 / 40) train acc: 0.198000; val_acc: 0.180000\n",
      "(Epoch 2 / 40) train acc: 0.224000; val_acc: 0.174000\n",
      "(Epoch 3 / 40) train acc: 0.264000; val_acc: 0.206000\n",
      "(Epoch 4 / 40) train acc: 0.264000; val_acc: 0.209000\n",
      "(Epoch 5 / 40) train acc: 0.314000; val_acc: 0.258000\n",
      "(Epoch 6 / 40) train acc: 0.330000; val_acc: 0.269000\n",
      "(Epoch 7 / 40) train acc: 0.320000; val_acc: 0.267000\n",
      "(Epoch 8 / 40) train acc: 0.356000; val_acc: 0.268000\n",
      "(Epoch 9 / 40) train acc: 0.364000; val_acc: 0.303000\n",
      "(Epoch 10 / 40) train acc: 0.384000; val_acc: 0.310000\n",
      "(Epoch 11 / 40) train acc: 0.380000; val_acc: 0.314000\n",
      "(Epoch 12 / 40) train acc: 0.376000; val_acc: 0.312000\n",
      "(Epoch 13 / 40) train acc: 0.382000; val_acc: 0.313000\n",
      "(Epoch 14 / 40) train acc: 0.394000; val_acc: 0.300000\n",
      "(Epoch 15 / 40) train acc: 0.404000; val_acc: 0.295000\n",
      "(Epoch 16 / 40) train acc: 0.424000; val_acc: 0.301000\n",
      "(Epoch 17 / 40) train acc: 0.442000; val_acc: 0.313000\n",
      "(Epoch 18 / 40) train acc: 0.460000; val_acc: 0.308000\n",
      "(Epoch 19 / 40) train acc: 0.490000; val_acc: 0.325000\n",
      "(Epoch 20 / 40) train acc: 0.496000; val_acc: 0.325000\n",
      "(Iteration 101 / 200) loss: 2.107933\n",
      "(Epoch 21 / 40) train acc: 0.498000; val_acc: 0.330000\n",
      "(Epoch 22 / 40) train acc: 0.486000; val_acc: 0.326000\n",
      "(Epoch 23 / 40) train acc: 0.506000; val_acc: 0.324000\n",
      "(Epoch 24 / 40) train acc: 0.510000; val_acc: 0.329000\n",
      "(Epoch 25 / 40) train acc: 0.512000; val_acc: 0.333000\n",
      "(Epoch 26 / 40) train acc: 0.516000; val_acc: 0.334000\n",
      "(Epoch 27 / 40) train acc: 0.530000; val_acc: 0.340000\n",
      "(Epoch 28 / 40) train acc: 0.552000; val_acc: 0.351000\n",
      "(Epoch 29 / 40) train acc: 0.556000; val_acc: 0.350000\n",
      "(Epoch 30 / 40) train acc: 0.570000; val_acc: 0.357000\n",
      "(Epoch 31 / 40) train acc: 0.570000; val_acc: 0.353000\n",
      "(Epoch 32 / 40) train acc: 0.580000; val_acc: 0.344000\n",
      "(Epoch 33 / 40) train acc: 0.596000; val_acc: 0.351000\n",
      "(Epoch 34 / 40) train acc: 0.584000; val_acc: 0.349000\n",
      "(Epoch 35 / 40) train acc: 0.596000; val_acc: 0.349000\n",
      "(Epoch 36 / 40) train acc: 0.604000; val_acc: 0.344000\n",
      "(Epoch 37 / 40) train acc: 0.600000; val_acc: 0.340000\n",
      "(Epoch 38 / 40) train acc: 0.600000; val_acc: 0.343000\n",
      "(Epoch 39 / 40) train acc: 0.602000; val_acc: 0.345000\n",
      "(Epoch 40 / 40) train acc: 0.604000; val_acc: 0.341000\n"
     ]
    }
   ],
   "source": [
    "# Train two identical nets, one with dropout and one without\n",
    "\n",
    "num_train = 500\n",
    "small_data = {\n",
    "  'X_train': data['X_train'][:num_train],\n",
    "  'y_train': data['y_train'][:num_train],\n",
    "  'X_val': data['X_val'],\n",
    "  'y_val': data['y_val'],\n",
    "}\n",
    "\n",
    "solvers = {}\n",
    "dropout_choices = [0, 0.5]\n",
    "for dropout in dropout_choices:\n",
    "  model = FullyConnectedNet([100,100], dropout=dropout)\n",
    "  print dropout\n",
    "\n",
    "  solver = Solver(model, small_data,\n",
    "                  num_epochs=40, batch_size=100,\n",
    "                  update_rule='adam',\n",
    "                  optim_config={\n",
    "                    'learning_rate': 5e-4,\n",
    "                  },\n",
    "                  verbose=True, print_every=100)\n",
    "  solver.train()\n",
    "  solvers[dropout] = solver"
   ]
  },
  {
   "cell_type": "code",
   "execution_count": 44,
   "metadata": {
    "collapsed": false
   },
   "outputs": [
    {
     "data": {
      "image/png": "[encoded data removed]",
      "text/plain": [
       "<matplotlib.figure.Figure at 0x1039a72d0>"
      ]
     },
     "metadata": {},
     "output_type": "display_data"
    }
   ],
   "source": [
    "# Plot train and validation accuracies of the two models\n",
    "\n",
    "train_accs = []\n",
    "val_accs = []\n",
    "for dropout in dropout_choices:\n",
    "  solver = solvers[dropout]\n",
    "  train_accs.append(solver.train_acc_history[-1])\n",
    "  val_accs.append(solver.val_acc_history[-1])\n",
    "\n",
    "plt.subplot(3, 1, 1)\n",
    "for dropout in dropout_choices:\n",
    "  plt.plot(solvers[dropout].train_acc_history, 'o', label='%.2f dropout' % dropout)\n",
    "plt.title('Train accuracy')\n",
    "plt.xlabel('Epoch')\n",
    "plt.ylabel('Accuracy')\n",
    "plt.legend(ncol=2, loc='lower right')\n",
    "  \n",
    "plt.subplot(3, 1, 2)\n",
    "for dropout in dropout_choices:\n",
    "  plt.plot(solvers[dropout].val_acc_history, 'o', label='%.2f dropout' % dropout)\n",
    "plt.title('Val accuracy')\n",
    "plt.xlabel('Epoch')\n",
    "plt.ylabel('Accuracy')\n",
    "plt.legend(ncol=2, loc='lower right')\n",
    "\n",
    "plt.gcf().set_size_inches(15, 15)\n",
    "plt.show()"
   ]
  },
  {
   "cell_type": "markdown",
   "metadata": {},
   "source": [
    "# Question\n",
    "Explain what you see in this experiment. What does it suggest about dropout?"
   ]
  },
  {
   "cell_type": "markdown",
   "metadata": {},
   "source": [
    "# Answer\n"
   ]
  }
 ],
 "metadata": {
  "anaconda-cloud": {},
  "kernelspec": {
   "display_name": "Python [Root]",
   "language": "python",
   "name": "Python [Root]"
  },
  "language_info": {
   "codemirror_mode": {
    "name": "ipython",
    "version": 2
   },
   "file_extension": ".py",
   "mimetype": "text/x-python",
   "name": "python",
   "nbconvert_exporter": "python",
   "pygments_lexer": "ipython2",
   "version": "2.7.12"
  }
 },
 "nbformat": 4,
 "nbformat_minor": 0
}
